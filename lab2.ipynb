{
 "cells": [
  {
   "cell_type": "markdown",
   "id": "3f5d89e4-55a6-4f7c-8f22-f60d5cfd0835",
   "metadata": {},
   "source": [
    "# User class for Banking System"
   ]
  },
  {
   "cell_type": "code",
   "execution_count": 7,
   "id": "5a62296b-0d3f-4b21-bd34-a80b0b2eda8d",
   "metadata": {},
   "outputs": [
    {
     "name": "stdout",
     "output_type": "stream",
     "text": [
      "Jeff has 68\n",
      "Joe has 120 and Jeff has 18\n",
      "ValueError\n",
      "Jeff has 98 and Joe has 40\n",
      "ValueError\n",
      "Jeff has 118.0\n"
     ]
    }
   ],
   "source": [
    "class User:\n",
    "    def __init__(self,name,balance,checking_account):\n",
    "        self.name=name\n",
    "        self.balance=balance\n",
    "        self.checking_account=checking_account\n",
    "    def withdraw(self,cash):\n",
    "        if(self.balance>=cash):\n",
    "            self.balance-=cash\n",
    "            return(f\"{self.name} has {self.balance}\")\n",
    "        else:\n",
    "            return(\"ValueError\")\n",
    "    def check(self,user,cash):\n",
    "        if(user.balance>=cash and user.checking_account):\n",
    "            self.balance+=cash\n",
    "            user.balance-=cash\n",
    "            return(f\"{self.name} has {self.balance} and {user.name} has {user.balance}\")\n",
    "        else:\n",
    "            return(\"ValueError\")\n",
    "    def add_cash(self,cash):\n",
    "        self.balance+=cash\n",
    "        return(f\"{self.name} has {self.balance}\")\n",
    "Jeff = User('Jeff', 70, True)\n",
    "Joe = User('Joe', 70, False)\n",
    "\n",
    "print(Jeff.withdraw(2)) # Returns 'Jeff has 68.'\n",
    "\n",
    "print(Joe.check(Jeff, 50)) # Returns 'Joe has 120 and Jeff has 18.'\n",
    "\n",
    "print(Jeff.check(Joe, 80)) # Raises a ValueError\n",
    "\n",
    "Joe.checking_account = True # Enables checking for Joe\n",
    "\n",
    "print(Jeff.check(Joe, 80)) # Returns 'Jeff has 98 and Joe has 40'\n",
    "\n",
    "print(Joe.check(Jeff, 100)) # Raises a ValueError\n",
    "\n",
    "print(Jeff.add_cash(20.00)) # Returns 'Jeff has 118.'"
   ]
  },
  {
   "cell_type": "markdown",
   "id": "3034cf50-b0f7-4d30-ae1d-ec13a021ec4c",
   "metadata": {},
   "source": [
    "# Class conundrum - Bug Fixing #7"
   ]
  },
  {
   "cell_type": "code",
   "execution_count": 27,
   "id": "6c39e177-7b8e-42fc-8b5e-bc1508f959f4",
   "metadata": {},
   "outputs": [
    {
     "name": "stdout",
     "output_type": "stream",
     "text": [
      "[0, 1]\n",
      "2\n"
     ]
    }
   ],
   "source": [
    "class MyList:\n",
    "    def __init__(self):\n",
    "        self.count=0\n",
    "        self.data = []\n",
    "\n",
    "    def add(self, item):\n",
    "        self.data.append(item)\n",
    "        self.count+=1\n",
    "        return self\n",
    "\n",
    "myList = MyList()\n",
    "myList.add(0).add(1)\n",
    "\n",
    "print(myList.data) \n",
    "print(myList.count)"
   ]
  },
  {
   "cell_type": "markdown",
   "id": "012186b0-19d4-4330-9ac1-dc915bfd250d",
   "metadata": {},
   "source": [
    "# Classy Classes"
   ]
  },
  {
   "cell_type": "code",
   "execution_count": 23,
   "id": "e61a972e-23f0-40ac-b9d1-ba87130fd68f",
   "metadata": {},
   "outputs": [
    {
     "name": "stdout",
     "output_type": "stream",
     "text": [
      "johns age is 34\n"
     ]
    }
   ],
   "source": [
    "class Person:\n",
    "    def __init__(self,name,age):\n",
    "        self.name=name\n",
    "        self.age=age\n",
    "    def getInfo(self):\n",
    "        return (f\"{self.name}s age is {self.age}\")\n",
    "john=Person(\"john\",34)\n",
    "print(john.getInfo())"
   ]
  },
  {
   "cell_type": "markdown",
   "id": "af6cc56d-3e09-4ef1-a5b8-8aa2dda8345a",
   "metadata": {},
   "source": [
    "# Thinkful - Object Drills: Quarks"
   ]
  },
  {
   "cell_type": "code",
   "execution_count": 4,
   "id": "f1e3f9c4-3efa-420a-8a7d-c9aecb6e444a",
   "metadata": {},
   "outputs": [
    {
     "name": "stdout",
     "output_type": "stream",
     "text": [
      "red\n",
      "up\n",
      "blue\n",
      "0.3333333333333333\n",
      "blue\n",
      "red\n"
     ]
    }
   ],
   "source": [
    "class Quark:\n",
    "    def __init__(self,color,flavor):\n",
    "        self.color=color\n",
    "        self.flavor=flavor\n",
    "        self.baryon_number=1/3\n",
    "    def interact(self,quark):\n",
    "        temp=self.color\n",
    "        self.color=quark.color\n",
    "        quark.color=temp\n",
    "q1 = Quark(\"red\", \"up\")\n",
    "print(q1.color)\n",
    "print(q1.flavor)\n",
    "q2 = Quark(\"blue\", \"strange\")\n",
    "print(q2.color)\n",
    "print(q2.baryon_number)\n",
    "q1.interact(q2)\n",
    "print(q1.color)\n",
    "print(q2.color)"
   ]
  },
  {
   "cell_type": "markdown",
   "id": "9384545c-8772-4231-9711-3a8eb0a09690",
   "metadata": {},
   "source": [
    "# Person Class Bug"
   ]
  },
  {
   "cell_type": "code",
   "execution_count": 22,
   "id": "ec177772-8d1b-429b-afe9-fc80b1283114",
   "metadata": {},
   "outputs": [
    {
     "name": "stdout",
     "output_type": "stream",
     "text": [
      "Yukihiro Matsumoto\n",
      "47\n"
     ]
    }
   ],
   "source": [
    "class Person:\n",
    "    def __init__(self, first_name, last_name, age):\n",
    "        self.first_name = first_name\n",
    "        self.last_name = last_name\n",
    "        self.age = age\n",
    "\n",
    "    def full_name(self):\n",
    "        return f\"{self.first_name} {self.last_name}\"\n",
    "\n",
    "person = Person('Yukihiro', 'Matsumoto', 47)\n",
    "print(person.full_name())\n",
    "print(person.age)"
   ]
  },
  {
   "cell_type": "markdown",
   "id": "a9befa7d-8f28-4aab-a296-746f17877646",
   "metadata": {},
   "source": [
    "# Python's Dynamic Classes #1"
   ]
  },
  {
   "cell_type": "code",
   "execution_count": 2,
   "id": "88c85051-7ad8-415a-a748-1ff1ef97b6fe",
   "metadata": {},
   "outputs": [
    {
     "name": "stdout",
     "output_type": "stream",
     "text": [
      "UsefulClass\n"
     ]
    }
   ],
   "source": [
    "def change_name(old_class, new_name):\n",
    "    if not new_name[0].isupper() or not new_name.isalnum():\n",
    "        print(\"ValueError\")\n",
    "    else:\n",
    "        old_class.__name__ = new_name\n",
    "\n",
    "class MyClass:\n",
    "    pass\n",
    "\n",
    "change_name(MyClass, \"UsefulClass\")\n",
    "print(MyClass.__name__)"
   ]
  },
  {
   "cell_type": "markdown",
   "id": "471271a5-942e-4574-9e7b-d19ac71a4db3",
   "metadata": {},
   "source": [
    "# Python's Dynamic Classes #2"
   ]
  },
  {
   "cell_type": "code",
   "execution_count": 13,
   "id": "8ed6b147-8ae5-4c41-8890-c71c270ca3eb",
   "metadata": {},
   "outputs": [
    {
     "name": "stdout",
     "output_type": "stream",
     "text": [
      "Class name is:MyClass\n"
     ]
    }
   ],
   "source": [
    "class ReNameAbleClass:\n",
    "    def __init__(self):\n",
    "        pass\n",
    "    def change_class_name(self,new_name):\n",
    "        if not new_name[0].isupper() or not new_name.isalnum():\n",
    "            print(\"ValueError\")\n",
    "        else:\n",
    "            self.__name__=new_name\n",
    "    def __str__(self):\n",
    "        print(f\"Class name is:{self.__name__}\")\n",
    "ReNameAbleClass.change_class_name(ReNameAbleClass,\"MyClass\")\n",
    "ReNameAbleClass.__str__(ReNameAbleClass)"
   ]
  },
  {
   "cell_type": "code",
   "execution_count": null,
   "id": "33f34acd-52ce-44a4-b91e-727559334d71",
   "metadata": {},
   "outputs": [],
   "source": []
  }
 ],
 "metadata": {
  "kernelspec": {
   "display_name": "Python 3 (ipykernel)",
   "language": "python",
   "name": "python3"
  },
  "language_info": {
   "codemirror_mode": {
    "name": "ipython",
    "version": 3
   },
   "file_extension": ".py",
   "mimetype": "text/x-python",
   "name": "python",
   "nbconvert_exporter": "python",
   "pygments_lexer": "ipython3",
   "version": "3.11.7"
  }
 },
 "nbformat": 4,
 "nbformat_minor": 5
}
